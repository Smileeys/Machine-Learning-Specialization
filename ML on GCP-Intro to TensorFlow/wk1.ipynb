{
 "cells": [
  {
   "cell_type": "code",
   "execution_count": 5,
   "metadata": {
    "collapsed": false,
    "deletable": true,
    "editable": true
   },
   "outputs": [],
   "source": [
    "import tensorflow as tf"
   ]
  },
  {
   "cell_type": "code",
   "execution_count": 6,
   "metadata": {
    "collapsed": false,
    "deletable": true,
    "editable": true
   },
   "outputs": [],
   "source": [
    "#batch shape(unknown variable shape)"
   ]
  },
  {
   "cell_type": "code",
   "execution_count": 7,
   "metadata": {
    "collapsed": false,
    "deletable": true,
    "editable": true
   },
   "outputs": [
    {
     "name": "stdout",
     "output_type": "stream",
     "text": [
      "[[2 8]]\n"
     ]
    }
   ],
   "source": [
    "a = tf.placeholder(dtype=tf.int32, shape=(None,2))  # batchsize x scalar\n",
    "b = tf.placeholder(dtype=tf.int32, shape=(None,2))\n",
    "c = tf.add(a, b)\n",
    "with tf.Session() as sess:\n",
    "  result = sess.run(c, feed_dict={\n",
    "      a: [[3,  5]],#double bracket---so shape=(1,2) instead of (2,)\n",
    "      b: [[-1,  3]]\n",
    "    })\n",
    "  print result"
   ]
  },
  {
   "cell_type": "code",
   "execution_count": 8,
   "metadata": {
    "collapsed": false,
    "deletable": true,
    "editable": true
   },
   "outputs": [
    {
     "name": "stdout",
     "output_type": "stream",
     "text": [
      "[[2]\n",
      " [5]]\n"
     ]
    }
   ],
   "source": [
    "#slice starting position and slicing parts\n",
    "x=tf.constant([[3,2],\n",
    "              [4,5],\n",
    "              [6,7]])\n",
    "sliced=tf.slice(x,[0,1],[2,1]) #[0,1] is the starting position, which is 2 here. [2,1] means sliced 2 rows and 1 column\n",
    "\n",
    "with tf.Session() as sess:\n",
    "  print sliced.eval()"
   ]
  },
  {
   "cell_type": "markdown",
   "metadata": {
    "deletable": true,
    "editable": true
   },
   "source": [
    "## Challenge Exercise\n",
    "\n",
    "Use TensorFlow to find the roots of a fourth-degree polynomial using [Halley's Method](https://en.wikipedia.org/wiki/Halley%27s_method).  The five coefficients (i.e. $a_0$ to $a_4$) of \n",
    "<p>\n",
    "$f(x) = a_0 + a_1 x + a_2 x^2 + a_3 x^3 + a_4 x^4$\n",
    "<p>\n",
    "will be fed into the program, as will the initial guess $x_0$. Your program will start from that initial guess and then iterate one step using the formula:\n",
    "<img src=\"https://wikimedia.org/api/rest_v1/media/math/render/svg/142614c0378a1d61cb623c1352bf85b6b7bc4397\" />\n",
    "<p>\n",
    "If you got the above easily, try iterating indefinitely until the change between $x_n$ and $x_{n+1}$ is less than some specified tolerance. Hint: Use [tf.where_loop](https://www.tensorflow.org/api_docs/python/tf/while_loop)"
   ]
  },
  {
   "cell_type": "code",
   "execution_count": 41,
   "metadata": {
    "collapsed": false,
    "deletable": true,
    "editable": true
   },
   "outputs": [
    {
     "name": "stdout",
     "output_type": "stream",
     "text": [
      "0.51117706\n",
      "0.7483654\n",
      "False\n"
     ]
    }
   ],
   "source": [
    "def next_x(a,x,dif):\n",
    "  a_0=a[0]\n",
    "  a_1=a[1]\n",
    "  a_2=a[2]\n",
    "  a_3=a[3]\n",
    "  a_4=a[4]\n",
    "  zero=a_0+a_1*x+a_2*x*x+a_3*x*x*x+a_4*x*x*x*x\n",
    "  first_d=a_1+2*a_2*x+3*a_3*x*x+4*a_4*x*x*x\n",
    "  second_d=2*a_2+6*a_3*x+12*a_4*x*x\n",
    "  dif=(2*first_d*zero)/(2*first_d*first_d-zero*second_d)\n",
    "  x=x-(2*first_d*zero)/(2*first_d*first_d-zero*second_d)\n",
    "  return a,x,dif\n",
    "def cond(a,x,dif):\n",
    "  return abs(dif)>1.0\n",
    "\n",
    "with tf.Session() as sess:\n",
    "  a1,x1,dif1=tf.while_loop(cond,next_x,([2.0,3.0,4.0,5.0,6.0],7.0,3.1))\n",
    "  bo=cond(a1,x1,dif1)\n",
    "  print sess.run(x1)\n",
    "  print sess.run(dif1)\n",
    "  print sess.run(bo)\n",
    "  "
   ]
  },
  {
   "cell_type": "code",
   "execution_count": null,
   "metadata": {
    "collapsed": true,
    "deletable": true,
    "editable": true
   },
   "outputs": [],
   "source": []
  }
 ],
 "metadata": {
  "kernelspec": {
   "display_name": "Python 2",
   "language": "python",
   "name": "python2"
  },
  "language_info": {
   "codemirror_mode": {
    "name": "ipython",
    "version": 2
   },
   "file_extension": ".py",
   "mimetype": "text/x-python",
   "name": "python",
   "nbconvert_exporter": "python",
   "pygments_lexer": "ipython2",
   "version": "2.7.15"
  }
 },
 "nbformat": 4,
 "nbformat_minor": 2
}

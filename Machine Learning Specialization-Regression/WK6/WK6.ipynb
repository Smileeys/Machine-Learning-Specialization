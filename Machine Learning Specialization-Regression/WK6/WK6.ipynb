{
 "cells": [
  {
   "cell_type": "code",
   "execution_count": 132,
   "metadata": {},
   "outputs": [],
   "source": [
    "import pandas as pd\n",
    "import numpy as np"
   ]
  },
  {
   "cell_type": "code",
   "execution_count": 133,
   "metadata": {},
   "outputs": [],
   "source": [
    "sales=pd.read_csv('kc_house_data_small.csv')"
   ]
  },
  {
   "cell_type": "code",
   "execution_count": 134,
   "metadata": {},
   "outputs": [],
   "source": [
    "train=pd.read_csv('kc_house_data_small_train.csv')\n",
    "test=pd.read_csv('kc_house_data_small_test.csv')\n",
    "validate=pd.read_csv('kc_house_data_validation.csv')"
   ]
  },
  {
   "cell_type": "code",
   "execution_count": 135,
   "metadata": {},
   "outputs": [],
   "source": [
    "def get_numpy_data(dataframe,features,output):\n",
    "    dataframe['constant']=1\n",
    "    features=['constant']+features\n",
    "    feature_matrix=dataframe[features].values\n",
    "    output_array=dataframe[output].values\n",
    "    return feature_matrix,output_array"
   ]
  },
  {
   "cell_type": "code",
   "execution_count": 148,
   "metadata": {},
   "outputs": [],
   "source": [
    "def normalize_features(features):\n",
    "    norms=np.sqrt((features**2).sum(axis=0))\n",
    "    norm_matrix=features/norms\n",
    "    return norm_matrix,norms"
   ]
  },
  {
   "cell_type": "code",
   "execution_count": 149,
   "metadata": {},
   "outputs": [],
   "source": [
    "dtype_dict = {'bathrooms':float, 'waterfront':int, 'sqft_above':int, 'sqft_living15':float, 'grade':int, 'yr_renovated':int, 'price':float, 'bedrooms':float, 'zipcode':str, 'long':float, 'sqft_lot15':float, 'sqft_living':float, 'floors':float, 'condition':int, 'lat':float, 'date':str, 'sqft_basement':int, 'yr_built':int, 'id':str, 'sqft_lot':int, 'view':int}"
   ]
  },
  {
   "cell_type": "code",
   "execution_count": 150,
   "metadata": {},
   "outputs": [],
   "source": [
    "all_feat=[m for m,n in dtype_dict.items() if n!=str]"
   ]
  },
  {
   "cell_type": "code",
   "execution_count": 151,
   "metadata": {},
   "outputs": [
    {
     "data": {
      "text/plain": [
       "17"
      ]
     },
     "execution_count": 151,
     "metadata": {},
     "output_type": "execute_result"
    }
   ],
   "source": [
    "all_feat.remove('price')\n",
    "all_feat.sort()\n",
    "len(all_feat)"
   ]
  },
  {
   "cell_type": "code",
   "execution_count": 152,
   "metadata": {},
   "outputs": [],
   "source": [
    "feats_train,output_train=get_numpy_data(train,all_feat,'price')\n",
    "feats_test,output_test=get_numpy_data(test,all_feat,'price')\n",
    "feats_valid,output_valid=get_numpy_data(validate,all_feat,'price')"
   ]
  },
  {
   "cell_type": "code",
   "execution_count": 153,
   "metadata": {},
   "outputs": [],
   "source": [
    "norm_train,norms=normalize_features(feats_train)"
   ]
  },
  {
   "cell_type": "code",
   "execution_count": 154,
   "metadata": {},
   "outputs": [],
   "source": [
    "norm_test=feats_test/norms\n",
    "norm_valid=feats_valid/norms"
   ]
  },
  {
   "cell_type": "code",
   "execution_count": 155,
   "metadata": {},
   "outputs": [
    {
     "name": "stdout",
     "output_type": "stream",
     "text": [
      "[ 0.01345102  0.01807473  0.01551285  0.0116321   0.017059    0.01564352\n",
      "  0.01345387 -0.01346922  0.01362084  0.02481682  0.01759212  0.01375926\n",
      "  0.00160518  0.0016225   0.05102365  0.          0.01350306  0.        ]\n",
      "[ 0.01345102  0.00602491  0.01163464  0.01938684  0.01279425  0.01390535\n",
      "  0.01346821 -0.01346251  0.0096309   0.          0.0083488   0.01195898\n",
      "  0.00050756  0.00156612  0.          0.          0.01302544  0.        ]\n"
     ]
    }
   ],
   "source": [
    "print (norm_test[0])\n",
    "print (norm_train[9])"
   ]
  },
  {
   "cell_type": "code",
   "execution_count": 156,
   "metadata": {},
   "outputs": [],
   "source": [
    "def compute_1_distance(query,reference):\n",
    "    sqr_sum=((query-reference)**2).sum(axis=0)\n",
    "    distance=np.sqrt(sqr_sum)\n",
    "    return distance"
   ]
  },
  {
   "cell_type": "code",
   "execution_count": 157,
   "metadata": {},
   "outputs": [
    {
     "data": {
      "text/plain": [
       "0.05972359371398078"
      ]
     },
     "execution_count": 157,
     "metadata": {},
     "output_type": "execute_result"
    }
   ],
   "source": [
    "compute_distance(norm_test[0],norm_train[9])"
   ]
  },
  {
   "cell_type": "code",
   "execution_count": 158,
   "metadata": {},
   "outputs": [],
   "source": [
    "dis_list=[]\n",
    "for i in range(10):\n",
    "    dis_list.append(compute_distance(norm_test[0],norm_train[i]))"
   ]
  },
  {
   "cell_type": "code",
   "execution_count": 160,
   "metadata": {},
   "outputs": [
    {
     "data": {
      "text/plain": [
       "8"
      ]
     },
     "execution_count": 160,
     "metadata": {},
     "output_type": "execute_result"
    }
   ],
   "source": [
    "dis_list.index(min(dis_list))"
   ]
  },
  {
   "cell_type": "code",
   "execution_count": 162,
   "metadata": {},
   "outputs": [],
   "source": [
    "diff=norm_train-norm_test[0]"
   ]
  },
  {
   "cell_type": "code",
   "execution_count": 163,
   "metadata": {},
   "outputs": [
    {
     "data": {
      "text/plain": [
       "-0.09343399874654643"
      ]
     },
     "execution_count": 163,
     "metadata": {},
     "output_type": "execute_result"
    }
   ],
   "source": [
    "diff[-1].sum()"
   ]
  },
  {
   "cell_type": "code",
   "execution_count": 164,
   "metadata": {},
   "outputs": [
    {
     "data": {
      "text/plain": [
       "0.0033070590284564453"
      ]
     },
     "execution_count": 164,
     "metadata": {},
     "output_type": "execute_result"
    }
   ],
   "source": [
    "np.sum(diff**2,axis=1)[15]"
   ]
  },
  {
   "cell_type": "code",
   "execution_count": 167,
   "metadata": {},
   "outputs": [
    {
     "data": {
      "text/plain": [
       "0.0033070590284564453"
      ]
     },
     "execution_count": 167,
     "metadata": {},
     "output_type": "execute_result"
    }
   ],
   "source": [
    "np.sum(diff[15]**2,axis=0)"
   ]
  },
  {
   "cell_type": "code",
   "execution_count": 168,
   "metadata": {},
   "outputs": [],
   "source": [
    "def compute_mat_distance(query,reference):\n",
    "    sqr_sum=((query-reference)**2).sum(axis=1)\n",
    "    distance=np.sqrt(sqr_sum)\n",
    "    return distance"
   ]
  },
  {
   "cell_type": "code",
   "execution_count": 169,
   "metadata": {},
   "outputs": [],
   "source": [
    "d=compute_mat_distance(norm_test[0],norm_train)"
   ]
  },
  {
   "cell_type": "code",
   "execution_count": 170,
   "metadata": {},
   "outputs": [
    {
     "data": {
      "text/plain": [
       "0.023708232416678195"
      ]
     },
     "execution_count": 170,
     "metadata": {},
     "output_type": "execute_result"
    }
   ],
   "source": [
    "d[100]"
   ]
  },
  {
   "cell_type": "code",
   "execution_count": 171,
   "metadata": {},
   "outputs": [],
   "source": [
    "d2=compute_mat_distance(norm_test[2],norm_train)"
   ]
  },
  {
   "cell_type": "code",
   "execution_count": 174,
   "metadata": {},
   "outputs": [
    {
     "data": {
      "text/plain": [
       "382"
      ]
     },
     "execution_count": 174,
     "metadata": {},
     "output_type": "execute_result"
    }
   ],
   "source": [
    "np.argmin(d2,axis=0)"
   ]
  },
  {
   "cell_type": "code",
   "execution_count": 175,
   "metadata": {},
   "outputs": [
    {
     "data": {
      "text/plain": [
       "249000"
      ]
     },
     "execution_count": 175,
     "metadata": {},
     "output_type": "execute_result"
    }
   ],
   "source": [
    "output_train[382]"
   ]
  },
  {
   "cell_type": "code",
   "execution_count": 182,
   "metadata": {},
   "outputs": [],
   "source": [
    "def k_nearest_neighbors(k, feature_train, features_query):\n",
    "    diff=feature_train-features_query\n",
    "    distance=np.sum(diff**2,axis=1)\n",
    "    sort_index=np.argsort(distance)\n",
    "    neighbors=sort_index[0:k]\n",
    "    return neighbors"
   ]
  },
  {
   "cell_type": "code",
   "execution_count": 212,
   "metadata": {},
   "outputs": [
    {
     "data": {
      "text/plain": [
       "413987.5"
      ]
     },
     "execution_count": 212,
     "metadata": {},
     "output_type": "execute_result"
    }
   ],
   "source": [
    "a=k_nearest_neighbors(4,norm_train,norm_test[2])\n",
    "output_train[a].sum()/4"
   ]
  },
  {
   "cell_type": "code",
   "execution_count": 184,
   "metadata": {},
   "outputs": [],
   "source": [
    "def predict(k, feature_train, output_train, features_query):\n",
    "    diff=feature_train-features_query\n",
    "    distance=np.sum(diff**2,axis=1)\n",
    "    sort_index=np.argsort(distance)\n",
    "    neighbors=sort_index[0:k]\n",
    "    prediction=output_train[neighbors].mean()\n",
    "    return prediction"
   ]
  },
  {
   "cell_type": "code",
   "execution_count": 185,
   "metadata": {},
   "outputs": [
    {
     "data": {
      "text/plain": [
       "923750.0"
      ]
     },
     "execution_count": 185,
     "metadata": {},
     "output_type": "execute_result"
    }
   ],
   "source": [
    "predict(4,norm_train,output_train,norm_test[0])"
   ]
  },
  {
   "cell_type": "code",
   "execution_count": 189,
   "metadata": {},
   "outputs": [],
   "source": [
    "def predict_output(k, feature_train, output_train, features_query):\n",
    "    a,b=features_query.shape\n",
    "    predictions=[]\n",
    "    for i in range(a):\n",
    "        predictions.append(predict(k, feature_train, output_train, features_query[i]))\n",
    "    return predictions"
   ]
  },
  {
   "cell_type": "code",
   "execution_count": 191,
   "metadata": {},
   "outputs": [],
   "source": [
    "output_10=predict_output(10,norm_train,output_train,norm_test[0:9])"
   ]
  },
  {
   "cell_type": "code",
   "execution_count": 213,
   "metadata": {},
   "outputs": [
    {
     "data": {
      "text/plain": [
       "350032.0"
      ]
     },
     "execution_count": 213,
     "metadata": {},
     "output_type": "execute_result"
    }
   ],
   "source": [
    "(min(output_10))"
   ]
  },
  {
   "cell_type": "code",
   "execution_count": 206,
   "metadata": {},
   "outputs": [
    {
     "name": "stdout",
     "output_type": "stream",
     "text": [
      "[(105453830251561.0, 1), (83445073504025.5, 2), (72692096019202.56, 3), (71946721652091.69, 4), (69846517419718.6, 5), (68899544353180.836, 6), (68341973450051.09, 7), (67361678735491.5, 8), (68372727958976.09, 9), (69335048668556.74, 10), (69523855215598.83, 11), (69049969587246.17, 12), (70011254508263.69, 13), (70908698869034.34, 14), (71106928385945.16, 15)]\n"
     ]
    }
   ],
   "source": [
    "rsslist=[]\n",
    "for i in range(1,16):\n",
    "    prep=predict_output(i,norm_train,output_train,norm_valid)\n",
    "    rss=((prep-output_valid)**2).sum()\n",
    "    rsslist.append((rss,i))\n",
    "print(rsslist)"
   ]
  },
  {
   "cell_type": "code",
   "execution_count": 202,
   "metadata": {},
   "outputs": [
    {
     "data": {
      "text/plain": [
       "7"
      ]
     },
     "execution_count": 202,
     "metadata": {},
     "output_type": "execute_result"
    }
   ],
   "source": [
    "rsslist.index(min(rsslist))"
   ]
  },
  {
   "cell_type": "code",
   "execution_count": 207,
   "metadata": {},
   "outputs": [],
   "source": [
    "pre_test=predict_output(8,norm_train,output_train,norm_test)"
   ]
  },
  {
   "cell_type": "code",
   "execution_count": 208,
   "metadata": {},
   "outputs": [],
   "source": [
    "rss_test=((pre_test-output_test)**2).sum()"
   ]
  },
  {
   "cell_type": "code",
   "execution_count": 209,
   "metadata": {},
   "outputs": [
    {
     "data": {
      "text/plain": [
       "133118823551516.81"
      ]
     },
     "execution_count": 209,
     "metadata": {},
     "output_type": "execute_result"
    }
   ],
   "source": [
    "rss_test"
   ]
  },
  {
   "cell_type": "code",
   "execution_count": null,
   "metadata": {},
   "outputs": [],
   "source": []
  }
 ],
 "metadata": {
  "kernelspec": {
   "display_name": "Python 3",
   "language": "python",
   "name": "python3"
  },
  "language_info": {
   "codemirror_mode": {
    "name": "ipython",
    "version": 3
   },
   "file_extension": ".py",
   "mimetype": "text/x-python",
   "name": "python",
   "nbconvert_exporter": "python",
   "pygments_lexer": "ipython3",
   "version": "3.6.5"
  }
 },
 "nbformat": 4,
 "nbformat_minor": 2
}

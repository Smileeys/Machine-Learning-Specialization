{
 "cells": [
  {
   "cell_type": "code",
   "execution_count": 247,
   "metadata": {},
   "outputs": [],
   "source": [
    "import pandas as pd\n",
    "import numpy as np\n",
    "from math import sqrt"
   ]
  },
  {
   "cell_type": "code",
   "execution_count": 308,
   "metadata": {},
   "outputs": [],
   "source": [
    "def get_numpy_data(dataframe,features,output):\n",
    "    dataframe['constant']=1\n",
    "    features=['constant']+features\n",
    "    feature_matrix=dataframe[features].values\n",
    "    output_array=dataframe[output].values\n",
    "    return (feature_matrix,output_array)"
   ]
  },
  {
   "cell_type": "code",
   "execution_count": 309,
   "metadata": {},
   "outputs": [],
   "source": [
    "sales=pd.read_csv('kc_house_data.csv')"
   ]
  },
  {
   "cell_type": "code",
   "execution_count": 374,
   "metadata": {},
   "outputs": [],
   "source": [
    "def predict(feature_matrix,weights):\n",
    "    predictions=np.dot(feature_matrix,weights)\n",
    "    return predictions\n"
   ]
  },
  {
   "cell_type": "code",
   "execution_count": 311,
   "metadata": {},
   "outputs": [],
   "source": [
    "def normalize_features(features):\n",
    "    norms=np.linalg.norm(features,axis=0)\n",
    "    normalized_features=features/norms\n",
    "    return (normalized_features,norms)"
   ]
  },
  {
   "cell_type": "code",
   "execution_count": 377,
   "metadata": {},
   "outputs": [],
   "source": [
    "sqft_bed,output_s=get_numpy_data(sales,['sqft_living','bedrooms'],'price')"
   ]
  },
  {
   "cell_type": "code",
   "execution_count": 378,
   "metadata": {},
   "outputs": [
    {
     "name": "stdout",
     "output_type": "stream",
     "text": [
      "[1.47013605e+02 3.34257264e+05 5.14075870e+02]\n"
     ]
    },
    {
     "data": {
      "text/plain": [
       "array([1.47013605e+02, 3.34257264e+05, 5.14075870e+02])"
      ]
     },
     "execution_count": 378,
     "metadata": {},
     "output_type": "execute_result"
    }
   ],
   "source": [
    "norm_sb,sb_norms=normalize_features(sqft_bed)\n",
    "print(sb_norms)\n",
    "(((sqft_bed)**2).sum(axis=0))**0.5"
   ]
  },
  {
   "cell_type": "code",
   "execution_count": 379,
   "metadata": {},
   "outputs": [],
   "source": [
    "initial_weights=[1,4,1]"
   ]
  },
  {
   "cell_type": "code",
   "execution_count": 380,
   "metadata": {},
   "outputs": [],
   "source": [
    "predict_1=predict(norm_sb,initial_weights)"
   ]
  },
  {
   "cell_type": "code",
   "execution_count": 381,
   "metadata": {},
   "outputs": [],
   "source": [
    "ro=[]\n",
    "for i in range(len(initial_weights)):\n",
    "    r=((output_s-predict_1+initial_weights[i]*norm_sb[:,i])*norm_sb[:,i]).sum()\n",
    "    ro.append(r)"
   ]
  },
  {
   "cell_type": "code",
   "execution_count": 382,
   "metadata": {},
   "outputs": [
    {
     "data": {
      "text/plain": [
       "[79400300.0145229, 87939470.82325175, 80966698.66623947]"
      ]
     },
     "execution_count": 382,
     "metadata": {},
     "output_type": "execute_result"
    }
   ],
   "source": [
    "ro"
   ]
  },
  {
   "cell_type": "code",
   "execution_count": 383,
   "metadata": {},
   "outputs": [],
   "source": [
    "def lasso_coordinate_descent_step(i, feature_matrix, output, weights, l1_penalty):\n",
    "    # compute prediction\n",
    "    prediction = predict(feature_matrix,weights)\n",
    "    # compute ro[i] = SUM[ [feature_i]*(output - prediction + weight[i]*[feature_i]) ]\n",
    "    ro_i = ((output-prediction+weights[i]*feature_matrix[:,i])*feature_matrix[:,i]).sum()\n",
    "    if i == 0: # intercept -- do not regularize\n",
    "        new_weight_i = ro_i\n",
    "    elif ro_i < -l1_penalty/2.0:\n",
    "        new_weight_i = ro_i+l1_penalty/2\n",
    "    elif ro_i > l1_penalty/2.0:\n",
    "        new_weight_i = ro_i-l1_penalty/2\n",
    "    else:\n",
    "        new_weight_i = 0.\n",
    "    return new_weight_i"
   ]
  },
  {
   "cell_type": "code",
   "execution_count": 384,
   "metadata": {},
   "outputs": [
    {
     "name": "stdout",
     "output_type": "stream",
     "text": [
      "0.4255588466910251\n"
     ]
    }
   ],
   "source": [
    "import math\n",
    "print (lasso_coordinate_descent_step(1, np.array([[3./math.sqrt(13),1./math.sqrt(10)],[2./math.sqrt(13),3./math.sqrt(10)]]), np.array([1., 1.]), np.array([1., 4.]), 0.1))"
   ]
  },
  {
   "cell_type": "code",
   "execution_count": 331,
   "metadata": {},
   "outputs": [],
   "source": [
    "def lasso_cyclical_coordinate_descent(feature_matrix, output, initial_weights, l1_penalty, tolerance):\n",
    "    weights=np.array(initial_weights)\n",
    "    dif=[tolerance+1]*len(initial_weights)\n",
    "    while True:\n",
    "        for i in range(len(initial_weights)):\n",
    "            old=weights[i]\n",
    "            weights[i]=lasso_coordinate_descent_step(i,feature_matrix,output,weights,l1_penalty)\n",
    "            dif[i]=abs(weights[i]-old)\n",
    "        if max(dif)<tolerance:\n",
    "            break\n",
    "    return weights"
   ]
  },
  {
   "cell_type": "code",
   "execution_count": 332,
   "metadata": {},
   "outputs": [],
   "source": [
    "try_mat,output=get_numpy_data(sales,['sqft_living','bedrooms'],'price')\n",
    "\n",
    "sqft_bed_try,sqft_bed_norms=normalize_features(try_mat)"
   ]
  },
  {
   "cell_type": "code",
   "execution_count": 334,
   "metadata": {},
   "outputs": [],
   "source": [
    "sqft_bed_weights=lasso_cyclical_coordinate_descent(sqft_bed_try,output,[0.0,0.0,0.0],1e7,1.0)"
   ]
  },
  {
   "cell_type": "code",
   "execution_count": 335,
   "metadata": {},
   "outputs": [
    {
     "data": {
      "text/plain": [
       "array([21624997.95951909, 63157247.20788956,        0.        ])"
      ]
     },
     "execution_count": 335,
     "metadata": {},
     "output_type": "execute_result"
    }
   ],
   "source": [
    "sqft_bed_weights"
   ]
  },
  {
   "cell_type": "code",
   "execution_count": 386,
   "metadata": {},
   "outputs": [
    {
     "data": {
      "text/plain": [
       "1630492476715386.5"
      ]
     },
     "execution_count": 386,
     "metadata": {},
     "output_type": "execute_result"
    }
   ],
   "source": [
    "((predict(sqft_bed_try,sqft_bed_weights)-output_s)**2.0).sum()"
   ]
  },
  {
   "cell_type": "code",
   "execution_count": 353,
   "metadata": {},
   "outputs": [],
   "source": [
    "training=pd.read_csv('kc_house_train_data.csv')\n",
    "testing=pd.read_csv('kc_house_test_data.csv')\n",
    "features_train=['bedrooms', 'bathrooms', 'sqft_living', 'sqft_lot', 'floors', 'waterfront', 'view', 'condition', 'grade', 'sqft_above', 'sqft_basement', 'yr_built', 'yr_renovated']"
   ]
  },
  {
   "cell_type": "code",
   "execution_count": 354,
   "metadata": {},
   "outputs": [],
   "source": [
    "train,output=get_numpy_data(training,['bedrooms', 'bathrooms', 'sqft_living', 'sqft_lot', 'floors', 'waterfront', 'view', 'condition', 'grade', 'sqft_above', 'sqft_basement', 'yr_built', 'yr_renovated'],'price')"
   ]
  },
  {
   "cell_type": "code",
   "execution_count": 355,
   "metadata": {},
   "outputs": [],
   "source": [
    "test,test_output=get_numpy_data(testing,['bedrooms', 'bathrooms', 'sqft_living', 'sqft_lot', 'floors', 'waterfront', 'view', 'condition', 'grade', 'sqft_above', 'sqft_basement', 'yr_built', 'yr_renovated'],'price')"
   ]
  },
  {
   "cell_type": "code",
   "execution_count": 357,
   "metadata": {},
   "outputs": [],
   "source": [
    "norm_train,norm_for_all=normalize_features(train)"
   ]
  },
  {
   "cell_type": "code",
   "execution_count": 360,
   "metadata": {},
   "outputs": [],
   "source": [
    "weights1e7=lasso_cyclical_coordinate_descent(norm_train,output,[0.0]*len(norm_train[0]),1e7,1.0)"
   ]
  },
  {
   "cell_type": "code",
   "execution_count": 367,
   "metadata": {},
   "outputs": [
    {
     "data": {
      "text/plain": [
       "constant         2.442960e+07\n",
       "bedrooms         0.000000e+00\n",
       "bathrooms        0.000000e+00\n",
       "sqft_living      4.838917e+07\n",
       "sqft_lot         0.000000e+00\n",
       "floors           0.000000e+00\n",
       "waterfront       3.317511e+06\n",
       "view             7.329962e+06\n",
       "condition        0.000000e+00\n",
       "grade            0.000000e+00\n",
       "sqft_above       0.000000e+00\n",
       "sqft_basement    0.000000e+00\n",
       "yr_built         0.000000e+00\n",
       "yr_renovated     0.000000e+00\n",
       "dtype: float64"
      ]
     },
     "execution_count": 367,
     "metadata": {},
     "output_type": "execute_result"
    }
   ],
   "source": [
    "pd.Series(weights1e7,index=['constant']+features_train)"
   ]
  },
  {
   "cell_type": "code",
   "execution_count": 364,
   "metadata": {},
   "outputs": [
    {
     "data": {
      "text/plain": [
       "intercept        7.111463e+07\n",
       "bedrooms         0.000000e+00\n",
       "bathrooms        0.000000e+00\n",
       "sqft_living      0.000000e+00\n",
       "sqft_lot         0.000000e+00\n",
       "floors           0.000000e+00\n",
       "waterfront       0.000000e+00\n",
       "view             0.000000e+00\n",
       "condition        0.000000e+00\n",
       "grade            0.000000e+00\n",
       "sqft_above       0.000000e+00\n",
       "sqft_basement    0.000000e+00\n",
       "yr_built         0.000000e+00\n",
       "yr_renovated     0.000000e+00\n",
       "dtype: float64"
      ]
     },
     "execution_count": 364,
     "metadata": {},
     "output_type": "execute_result"
    }
   ],
   "source": [
    "weights1e8=lasso_cyclical_coordinate_descent(norm_train,output,[0.0]*len(norm_train[0]),1e8,1.0)\n",
    "\n",
    "pd.Series(weights1e8,index=['intercept']+features_train)"
   ]
  },
  {
   "cell_type": "code",
   "execution_count": 365,
   "metadata": {},
   "outputs": [
    {
     "data": {
      "text/plain": [
       "intercept        7.856474e+07\n",
       "bedrooms        -2.209740e+07\n",
       "bathrooms        1.279107e+07\n",
       "sqft_living      9.380809e+07\n",
       "sqft_lot        -2.013173e+06\n",
       "floors          -4.219185e+06\n",
       "waterfront       6.482843e+06\n",
       "view             7.127409e+06\n",
       "condition        5.001665e+06\n",
       "grade            1.432752e+07\n",
       "sqft_above      -1.577096e+07\n",
       "sqft_basement   -5.159591e+06\n",
       "yr_built        -8.449534e+07\n",
       "yr_renovated     2.824439e+06\n",
       "dtype: float64"
      ]
     },
     "execution_count": 365,
     "metadata": {},
     "output_type": "execute_result"
    }
   ],
   "source": [
    "weights1e4=lasso_cyclical_coordinate_descent(norm_train,output,[0.0]*len(norm_train[0]),1e4,5e5)\n",
    "\n",
    "pd.Series(weights1e4,index=['intercept']+features_train)"
   ]
  },
  {
   "cell_type": "code",
   "execution_count": 370,
   "metadata": {},
   "outputs": [],
   "source": [
    "norm_1e4=weights1e4/norm_for_all\n",
    "norm_1e7=weights1e7/norm_for_all\n",
    "norm_1e8=weights1e8/norm_for_all"
   ]
  },
  {
   "cell_type": "code",
   "execution_count": 372,
   "metadata": {},
   "outputs": [],
   "source": [
    "rss1e4=((predict(test,norm_1e4)-test_output)**2).sum()\n",
    "rss1e7=((predict(test,norm_1e7)-test_output)**2).sum()\n",
    "rss1e8=((predict(test,norm_1e8)-test_output)**2).sum()"
   ]
  },
  {
   "cell_type": "code",
   "execution_count": 373,
   "metadata": {},
   "outputs": [
    {
     "name": "stdout",
     "output_type": "stream",
     "text": [
      "228459958971393.25\n",
      "275962075920366.78\n",
      "537166151497322.75\n"
     ]
    }
   ],
   "source": [
    "print(rss1e4)\n",
    "print(rss1e7)\n",
    "print(rss1e8)"
   ]
  },
  {
   "cell_type": "code",
   "execution_count": null,
   "metadata": {},
   "outputs": [],
   "source": []
  }
 ],
 "metadata": {
  "kernelspec": {
   "display_name": "Python 3",
   "language": "python",
   "name": "python3"
  },
  "language_info": {
   "codemirror_mode": {
    "name": "ipython",
    "version": 3
   },
   "file_extension": ".py",
   "mimetype": "text/x-python",
   "name": "python",
   "nbconvert_exporter": "python",
   "pygments_lexer": "ipython3",
   "version": "3.6.5"
  }
 },
 "nbformat": 4,
 "nbformat_minor": 2
}
